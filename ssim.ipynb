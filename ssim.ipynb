{
 "metadata": {
  "language_info": {
   "codemirror_mode": {
    "name": "ipython",
    "version": 3
   },
   "file_extension": ".py",
   "mimetype": "text/x-python",
   "name": "python",
   "nbconvert_exporter": "python",
   "pygments_lexer": "ipython3",
   "version": "3.7.9-final"
  },
  "orig_nbformat": 2,
  "kernelspec": {
   "name": "python3",
   "display_name": "Python 3",
   "language": "python"
  }
 },
 "nbformat": 4,
 "nbformat_minor": 2,
 "cells": [
  {
   "cell_type": "code",
   "execution_count": 1,
   "metadata": {},
   "outputs": [],
   "source": [
    "from skimage.measure import compare_ssim\n",
    "import cv2"
   ]
  },
  {
   "cell_type": "code",
   "execution_count": 5,
   "metadata": {},
   "outputs": [
    {
     "output_type": "execute_result",
     "data": {
      "text/plain": [
       "0.9564272841025351"
      ]
     },
     "metadata": {},
     "execution_count": 5
    }
   ],
   "source": [
    "im1 = cv2.imread('orig_0136_mbt.png')\n",
    "im2 = cv2.imread(r'C:\\Users\\james\\research\\blur\\0136_pixel_moved.png')\n",
    "before_gray = cv2.cvtColor(im1, cv2.COLOR_BGR2GRAY)\n",
    "after_gray = cv2.cvtColor(im2, cv2.COLOR_BGR2GRAY)\n",
    "score = compare_ssim(before_gray, after_gray, full=False)\n",
    "score"
   ]
  },
  {
   "cell_type": "code",
   "execution_count": null,
   "metadata": {},
   "outputs": [],
   "source": []
  }
 ]
}