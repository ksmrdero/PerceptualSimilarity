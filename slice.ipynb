{
 "metadata": {
  "language_info": {
   "codemirror_mode": {
    "name": "ipython",
    "version": 3
   },
   "file_extension": ".py",
   "mimetype": "text/x-python",
   "name": "python",
   "nbconvert_exporter": "python",
   "pygments_lexer": "ipython3",
   "version": "3.7.9-final"
  },
  "orig_nbformat": 2,
  "kernelspec": {
   "name": "python3",
   "display_name": "Python 3.7.9 64-bit",
   "metadata": {
    "interpreter": {
     "hash": "7564143b80d555a91c0bf8d0dd0443cfcc69a2db4a96bb30e006488321617cb7"
    }
   }
  }
 },
 "nbformat": 4,
 "nbformat_minor": 2,
 "cells": [
  {
   "cell_type": "code",
   "execution_count": 2,
   "metadata": {},
   "outputs": [],
   "source": [
    "import cv2\n",
    "import numpy as np"
   ]
  },
  {
   "cell_type": "code",
   "execution_count": 10,
   "metadata": {},
   "outputs": [],
   "source": [
    "def slice_img(size, img, output):\n",
    "    h, w, c = img.shape\n",
    "    count=1\n",
    "    for i in range(0, h//size):\n",
    "        for j in range(0, w//size):\n",
    "            cut = img[i*size:(i+1)*size, j*size:(j+1)*size, :]\n",
    "            cv2.imwrite('sliced/%s/%d.png'%(output, count), cut)\n",
    "            count+=1"
   ]
  },
  {
   "cell_type": "code",
   "execution_count": 13,
   "metadata": {},
   "outputs": [],
   "source": [
    "# orig_0136_mbt.png\n",
    "# 0136_mbt.png\n",
    "# 0136_lo_cropped.png\n",
    "img = cv2.imread('0136_lo_cropped.png')\n",
    "slice_img(64, img, 'lo')"
   ]
  },
  {
   "cell_type": "code",
   "execution_count": null,
   "metadata": {},
   "outputs": [],
   "source": []
  }
 ]
}